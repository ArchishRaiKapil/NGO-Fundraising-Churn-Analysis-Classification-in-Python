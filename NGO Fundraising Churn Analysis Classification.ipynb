{
 "cells": [
  {
   "cell_type": "code",
   "execution_count": 1,
   "metadata": {},
   "outputs": [],
   "source": [
    "import pandas as pd\n",
    "import numpy as np\n",
    "import matplotlib.pyplot as plt\n",
    "%matplotlib inline\n",
    "import datetime\n",
    "import seaborn as sns"
   ]
  },
  {
   "cell_type": "markdown",
   "metadata": {},
   "source": [
    "# ((1)) Imporing Data File"
   ]
  },
  {
   "cell_type": "code",
   "execution_count": 2,
   "metadata": {},
   "outputs": [],
   "source": [
    "extrel=pd.read_sas('C:/Python Submission/Classification/extrel.sas7bdat')"
   ]
  },
  {
   "cell_type": "code",
   "execution_count": 3,
   "metadata": {},
   "outputs": [],
   "source": [
    "extrelty=pd.read_sas('C:/Python Submission/Classification/extrelty.sas7bdat')"
   ]
  },
  {
   "cell_type": "code",
   "execution_count": 4,
   "metadata": {},
   "outputs": [],
   "source": [
    "communication=pd.read_sas('C:/Python Submission/Classification/communication.sas7bdat')"
   ]
  },
  {
   "cell_type": "code",
   "execution_count": 5,
   "metadata": {},
   "outputs": [],
   "source": [
    "commaint=pd.read_sas('C:/Python Submission/Classification/commaint.sas7bdat')"
   ]
  },
  {
   "cell_type": "code",
   "execution_count": 6,
   "metadata": {},
   "outputs": [],
   "source": [
    "commediu=pd.read_sas('C:/Python Submission/Classification/commediu.sas7bdat')"
   ]
  },
  {
   "cell_type": "code",
   "execution_count": 7,
   "metadata": {},
   "outputs": [],
   "source": [
    "comclas=pd.read_sas('C:/Python Submission/Classification/comclas.sas7bdat')"
   ]
  },
  {
   "cell_type": "code",
   "execution_count": 8,
   "metadata": {},
   "outputs": [],
   "source": [
    "payhistory=pd.read_sas('C:/Python Submission/Classification/payhistory.sas7bdat')"
   ]
  },
  {
   "cell_type": "markdown",
   "metadata": {},
   "source": [
    "# ((2)) DATA PREPARATION"
   ]
  },
  {
   "cell_type": "markdown",
   "metadata": {},
   "source": [
    "## Setting Indpendent & Dependent window to find active customers\n",
    "\n",
    "#### 1 - Start of dependent window = 01 January 2006\n",
    "#### 2 - End of dependent  window = 03 December 2005\n",
    "#### 3 - Start of independent window = 01 January 2006"
   ]
  },
  {
   "cell_type": "code",
   "execution_count": 9,
   "metadata": {},
   "outputs": [],
   "source": [
    "end_window='2005-12-03'\n",
    "start_window='2006-01-01'"
   ]
  },
  {
   "cell_type": "code",
   "execution_count": 10,
   "metadata": {},
   "outputs": [],
   "source": [
    "##creating group pf filter data of active customers (as one with - activity code- FP, - start date before end of IW - and end\n",
    "#date after start of the DW (means he was active during IW) or missing [means still a donor]"
   ]
  },
  {
   "cell_type": "markdown",
   "metadata": {},
   "source": [
    "### Subsetting the extrel dataset to the approporate window to select donors with commitment-'activated'"
   ]
  },
  {
   "cell_type": "code",
   "execution_count": 16,
   "metadata": {},
   "outputs": [],
   "source": [
    "    activated=(extrel['EXTRELSTDT']<end_window) & ((extrel['EXRELDATEN']>start_window) |(extrel['EXRELDATEN'].isnull()))\\\n",
    "    & (extrel['EXRELACTCD']==b'FP')"
   ]
  },
  {
   "cell_type": "code",
   "execution_count": 17,
   "metadata": {},
   "outputs": [],
   "source": [
    "# Applying the activated subset to the extrel table to acquire the details of active member in the appropraite time frame\n",
    "main_table=extrel[activated]"
   ]
  },
  {
   "cell_type": "code",
   "execution_count": 18,
   "metadata": {},
   "outputs": [
    {
     "data": {
      "text/html": [
       "<div>\n",
       "<style scoped>\n",
       "    .dataframe tbody tr th:only-of-type {\n",
       "        vertical-align: middle;\n",
       "    }\n",
       "\n",
       "    .dataframe tbody tr th {\n",
       "        vertical-align: top;\n",
       "    }\n",
       "\n",
       "    .dataframe thead th {\n",
       "        text-align: right;\n",
       "    }\n",
       "</style>\n",
       "<table border=\"1\" class=\"dataframe\">\n",
       "  <thead>\n",
       "    <tr style=\"text-align: right;\">\n",
       "      <th></th>\n",
       "      <th>EXTRELNO</th>\n",
       "      <th>EXRELACTCD</th>\n",
       "      <th>EXTRELSTDT</th>\n",
       "      <th>EXRELDATEN</th>\n",
       "    </tr>\n",
       "  </thead>\n",
       "  <tbody>\n",
       "    <tr>\n",
       "      <th>1</th>\n",
       "      <td>b'0026419'</td>\n",
       "      <td>b'FP'</td>\n",
       "      <td>1992-03-01</td>\n",
       "      <td>NaT</td>\n",
       "    </tr>\n",
       "    <tr>\n",
       "      <th>3</th>\n",
       "      <td>b'0026430'</td>\n",
       "      <td>b'FP'</td>\n",
       "      <td>1992-03-01</td>\n",
       "      <td>2006-01-31</td>\n",
       "    </tr>\n",
       "    <tr>\n",
       "      <th>5</th>\n",
       "      <td>b'0026431'</td>\n",
       "      <td>b'FP'</td>\n",
       "      <td>1992-03-01</td>\n",
       "      <td>NaT</td>\n",
       "    </tr>\n",
       "    <tr>\n",
       "      <th>7</th>\n",
       "      <td>b'0026443'</td>\n",
       "      <td>b'FP'</td>\n",
       "      <td>1992-03-01</td>\n",
       "      <td>NaT</td>\n",
       "    </tr>\n",
       "    <tr>\n",
       "      <th>8</th>\n",
       "      <td>b'0026444'</td>\n",
       "      <td>b'FP'</td>\n",
       "      <td>1992-03-01</td>\n",
       "      <td>NaT</td>\n",
       "    </tr>\n",
       "  </tbody>\n",
       "</table>\n",
       "</div>"
      ],
      "text/plain": [
       "     EXTRELNO EXRELACTCD EXTRELSTDT EXRELDATEN\n",
       "1  b'0026419'      b'FP' 1992-03-01        NaT\n",
       "3  b'0026430'      b'FP' 1992-03-01 2006-01-31\n",
       "5  b'0026431'      b'FP' 1992-03-01        NaT\n",
       "7  b'0026443'      b'FP' 1992-03-01        NaT\n",
       "8  b'0026444'      b'FP' 1992-03-01        NaT"
      ]
     },
     "execution_count": 18,
     "metadata": {},
     "output_type": "execute_result"
    }
   ],
   "source": [
    "main_table.head()"
   ]
  },
  {
   "cell_type": "code",
   "execution_count": 19,
   "metadata": {},
   "outputs": [
    {
     "name": "stderr",
     "output_type": "stream",
     "text": [
      "C:\\ProgramData\\Anaconda3\\lib\\site-packages\\ipykernel_launcher.py:2: SettingWithCopyWarning: \n",
      "A value is trying to be set on a copy of a slice from a DataFrame.\n",
      "Try using .loc[row_indexer,col_indexer] = value instead\n",
      "\n",
      "See the caveats in the documentation: http://pandas.pydata.org/pandas-docs/stable/indexing.html#indexing-view-versus-copy\n",
      "  \n"
     ]
    }
   ],
   "source": [
    "#extracting date from 'EXTRELSTDT' to mark the year of beginning\n",
    "main_table ['startyr']=main_table['EXTRELSTDT'].apply(lambda x: x.year)"
   ]
  },
  {
   "cell_type": "code",
   "execution_count": 20,
   "metadata": {
    "scrolled": true
   },
   "outputs": [
    {
     "name": "stderr",
     "output_type": "stream",
     "text": [
      "C:\\ProgramData\\Anaconda3\\lib\\site-packages\\ipykernel_launcher.py:2: SettingWithCopyWarning: \n",
      "A value is trying to be set on a copy of a slice from a DataFrame.\n",
      "Try using .loc[row_indexer,col_indexer] = value instead\n",
      "\n",
      "See the caveats in the documentation: http://pandas.pydata.org/pandas-docs/stable/indexing.html#indexing-view-versus-copy\n",
      "  \n"
     ]
    }
   ],
   "source": [
    "# Assigning churners/non churners lables, churners-with date (date of churning) and non churners with NAT ie. still active\n",
    "main_table['Churn']=np.where(main_table['EXRELDATEN'].isnull(),0,1)"
   ]
  },
  {
   "cell_type": "code",
   "execution_count": 21,
   "metadata": {},
   "outputs": [
    {
     "data": {
      "text/plain": [
       "0    6675\n",
       "1     506\n",
       "Name: Churn, dtype: int64"
      ]
     },
     "execution_count": 21,
     "metadata": {},
     "output_type": "execute_result"
    }
   ],
   "source": [
    "# Calculating number of churners and non churners in the time frame\n",
    "\n",
    "main_table['Churn'].value_counts()"
   ]
  },
  {
   "cell_type": "markdown",
   "metadata": {},
   "source": [
    "### Creating important inidependent variables"
   ]
  },
  {
   "cell_type": "code",
   "execution_count": 22,
   "metadata": {},
   "outputs": [],
   "source": [
    "# Extracting Last Communication Information\n",
    "last_communication=communication.sort_values(ascending=0, by='CONTDATE').groupby('EXTRELNO').nth(0)"
   ]
  },
  {
   "cell_type": "markdown",
   "metadata": {},
   "source": [
    "####  A) Finding total payment made  by each donor"
   ]
  },
  {
   "cell_type": "code",
   "execution_count": 23,
   "metadata": {},
   "outputs": [],
   "source": [
    "# Finding Total Payment by each donor by aggregating 'PAMT' variable.\n",
    "Total_Payment=pd.pivot_table(index=['EXTRELNO'],data=payhistory,values=['PAMT'],aggfunc=sum)"
   ]
  },
  {
   "cell_type": "code",
   "execution_count": 24,
   "metadata": {},
   "outputs": [],
   "source": [
    "# Renaming the PAMT variable to Total_Pamt\n",
    "Total_Payment=Total_Payment.rename(columns={'PAMT':'Total_Pamt'})"
   ]
  },
  {
   "cell_type": "markdown",
   "metadata": {},
   "source": [
    "####  B) Recency"
   ]
  },
  {
   "cell_type": "code",
   "execution_count": 25,
   "metadata": {},
   "outputs": [],
   "source": [
    "#finding most recent date of payment\n",
    "Recent_payers_by_date=pd.DataFrame(payhistory.groupby('EXTRELNO').apply(lambda x: x['PDATE'].max()),columns=['recent_date'])"
   ]
  },
  {
   "cell_type": "code",
   "execution_count": 26,
   "metadata": {},
   "outputs": [
    {
     "data": {
      "text/html": [
       "<div>\n",
       "<style scoped>\n",
       "    .dataframe tbody tr th:only-of-type {\n",
       "        vertical-align: middle;\n",
       "    }\n",
       "\n",
       "    .dataframe tbody tr th {\n",
       "        vertical-align: top;\n",
       "    }\n",
       "\n",
       "    .dataframe thead th {\n",
       "        text-align: right;\n",
       "    }\n",
       "</style>\n",
       "<table border=\"1\" class=\"dataframe\">\n",
       "  <thead>\n",
       "    <tr style=\"text-align: right;\">\n",
       "      <th></th>\n",
       "      <th>recent_date</th>\n",
       "    </tr>\n",
       "    <tr>\n",
       "      <th>EXTRELNO</th>\n",
       "      <th></th>\n",
       "    </tr>\n",
       "  </thead>\n",
       "  <tbody>\n",
       "    <tr>\n",
       "      <th>b'0000019'</th>\n",
       "      <td>1993-12-31</td>\n",
       "    </tr>\n",
       "    <tr>\n",
       "      <th>b'0000020'</th>\n",
       "      <td>2007-01-17</td>\n",
       "    </tr>\n",
       "    <tr>\n",
       "      <th>b'0000035'</th>\n",
       "      <td>2007-01-17</td>\n",
       "    </tr>\n",
       "    <tr>\n",
       "      <th>b'0000042'</th>\n",
       "      <td>2001-01-23</td>\n",
       "    </tr>\n",
       "    <tr>\n",
       "      <th>b'0000043'</th>\n",
       "      <td>2003-07-14</td>\n",
       "    </tr>\n",
       "  </tbody>\n",
       "</table>\n",
       "</div>"
      ],
      "text/plain": [
       "           recent_date\n",
       "EXTRELNO              \n",
       "b'0000019'  1993-12-31\n",
       "b'0000020'  2007-01-17\n",
       "b'0000035'  2007-01-17\n",
       "b'0000042'  2001-01-23\n",
       "b'0000043'  2003-07-14"
      ]
     },
     "execution_count": 26,
     "metadata": {},
     "output_type": "execute_result"
    }
   ],
   "source": [
    "Recent_payers_by_date.head()"
   ]
  },
  {
   "cell_type": "markdown",
   "metadata": {},
   "source": [
    "####  C) Frequency"
   ]
  },
  {
   "cell_type": "code",
   "execution_count": 27,
   "metadata": {},
   "outputs": [],
   "source": [
    "# Frequency of Payments\n",
    "group_temp=payhistory.groupby('EXTRELNO')"
   ]
  },
  {
   "cell_type": "code",
   "execution_count": 28,
   "metadata": {},
   "outputs": [],
   "source": [
    "#renaming second column as 'Frequency'\n",
    "frequent_payers=pd.DataFrame(group_temp.size(),columns=['Frequency'])\n"
   ]
  },
  {
   "cell_type": "markdown",
   "metadata": {},
   "source": [
    "### Merging Tables"
   ]
  },
  {
   "cell_type": "code",
   "execution_count": 29,
   "metadata": {},
   "outputs": [
    {
     "data": {
      "text/plain": [
       "(22919, 9)"
      ]
     },
     "execution_count": 29,
     "metadata": {},
     "output_type": "execute_result"
    }
   ],
   "source": [
    "#Payment & Communication Information\n",
    "data_frame_temp_1=pd.concat([Total_Payment,Recent_payers_by_date,frequent_payers,last_communication],axis=1)\n",
    "data_frame_temp_1.shape"
   ]
  },
  {
   "cell_type": "code",
   "execution_count": 30,
   "metadata": {},
   "outputs": [],
   "source": [
    "#Further merging donor information Information\n",
    "merged_table=main_table.set_index('EXTRELNO').merge(data_frame_temp_1,left_index=True,right_index=True,how='left')"
   ]
  },
  {
   "cell_type": "markdown",
   "metadata": {},
   "source": [
    "# ((3)) Missing value imputation\n",
    "\n",
    "Doing imputation seperately - by taking mean/mode of variables where churn is 1 and of variables where churn is 2"
   ]
  },
  {
   "cell_type": "markdown",
   "metadata": {},
   "source": [
    "### Recent Date (Recency)"
   ]
  },
  {
   "cell_type": "code",
   "execution_count": 31,
   "metadata": {},
   "outputs": [],
   "source": [
    "cd=merged_table[merged_table['Churn']==1]['recent_date'].mode()[0]"
   ]
  },
  {
   "cell_type": "code",
   "execution_count": 32,
   "metadata": {},
   "outputs": [],
   "source": [
    "cnd=merged_table[merged_table['Churn']==0]['recent_date'].mode()[0]"
   ]
  },
  {
   "cell_type": "code",
   "execution_count": 33,
   "metadata": {},
   "outputs": [],
   "source": [
    "merged_table.loc[((merged_table['Churn']==1) & (merged_table['recent_date'].isnull())),'recent_date']=cd"
   ]
  },
  {
   "cell_type": "code",
   "execution_count": 34,
   "metadata": {},
   "outputs": [],
   "source": [
    "merged_table.loc[((merged_table['Churn']==0) & (merged_table['recent_date'].isnull())),'recent_date']=cnd"
   ]
  },
  {
   "cell_type": "code",
   "execution_count": 36,
   "metadata": {},
   "outputs": [
    {
     "data": {
      "text/plain": [
       "datetime.datetime(2007, 2, 2, 0, 0)"
      ]
     },
     "execution_count": 36,
     "metadata": {},
     "output_type": "execute_result"
    }
   ],
   "source": [
    "#last date of the dump is 2/02/2007\n",
    "l=datetime.datetime(2007,2,2)\n",
    "l"
   ]
  },
  {
   "cell_type": "code",
   "execution_count": 37,
   "metadata": {},
   "outputs": [
    {
     "data": {
      "text/plain": [
       "EXTRELNO\n",
       "b'0026419'    31 days\n",
       "b'0026430'   472 days\n",
       "b'0026431'   280 days\n",
       "b'0026443'    16 days\n",
       "b'0026444'    16 days\n",
       "Name: Recency, dtype: timedelta64[ns]"
      ]
     },
     "execution_count": 37,
     "metadata": {},
     "output_type": "execute_result"
    }
   ],
   "source": [
    "#Finding one mode predictor variable'RECENCY' :Time since last payment\n",
    "merged_table['Recency']=list((map(lambda x: x,l-merged_table['recent_date'])))\n",
    "merged_table['Recency'].head()"
   ]
  },
  {
   "cell_type": "code",
   "execution_count": 38,
   "metadata": {},
   "outputs": [],
   "source": [
    "# Retreivig number od days from timedelta object\n",
    "merged_table['Recency']=merged_table['Recency'].apply(lambda x: x.days)"
   ]
  },
  {
   "cell_type": "code",
   "execution_count": 39,
   "metadata": {},
   "outputs": [
    {
     "data": {
      "text/plain": [
       "EXTRELNO\n",
       "b'0026419'     31\n",
       "b'0026430'    472\n",
       "b'0026431'    280\n",
       "b'0026443'     16\n",
       "b'0026444'     16\n",
       "Name: Recency, dtype: int64"
      ]
     },
     "execution_count": 39,
     "metadata": {},
     "output_type": "execute_result"
    }
   ],
   "source": [
    "merged_table['Recency'].head()"
   ]
  },
  {
   "cell_type": "code",
   "execution_count": 40,
   "metadata": {},
   "outputs": [
    {
     "data": {
      "text/plain": [
       "(17, 15)"
      ]
     },
     "execution_count": 40,
     "metadata": {},
     "output_type": "execute_result"
    }
   ],
   "source": [
    "merged_table[merged_table['Total_Pamt'].isnull()].shape"
   ]
  },
  {
   "cell_type": "code",
   "execution_count": 41,
   "metadata": {},
   "outputs": [
    {
     "data": {
      "text/html": [
       "<div>\n",
       "<style scoped>\n",
       "    .dataframe tbody tr th:only-of-type {\n",
       "        vertical-align: middle;\n",
       "    }\n",
       "\n",
       "    .dataframe tbody tr th {\n",
       "        vertical-align: top;\n",
       "    }\n",
       "\n",
       "    .dataframe thead th {\n",
       "        text-align: right;\n",
       "    }\n",
       "</style>\n",
       "<table border=\"1\" class=\"dataframe\">\n",
       "  <thead>\n",
       "    <tr style=\"text-align: right;\">\n",
       "      <th></th>\n",
       "      <th>EXRELACTCD</th>\n",
       "      <th>EXTRELSTDT</th>\n",
       "      <th>EXRELDATEN</th>\n",
       "      <th>startyr</th>\n",
       "      <th>Churn</th>\n",
       "      <th>Total_Pamt</th>\n",
       "      <th>recent_date</th>\n",
       "      <th>Frequency</th>\n",
       "      <th>CLASCODE</th>\n",
       "      <th>CONTDATE</th>\n",
       "      <th>CONTDIREC</th>\n",
       "      <th>CONTID</th>\n",
       "      <th>MEDIUMCODE</th>\n",
       "      <th>MNTOPCODE</th>\n",
       "      <th>Recency</th>\n",
       "    </tr>\n",
       "    <tr>\n",
       "      <th>EXTRELNO</th>\n",
       "      <th></th>\n",
       "      <th></th>\n",
       "      <th></th>\n",
       "      <th></th>\n",
       "      <th></th>\n",
       "      <th></th>\n",
       "      <th></th>\n",
       "      <th></th>\n",
       "      <th></th>\n",
       "      <th></th>\n",
       "      <th></th>\n",
       "      <th></th>\n",
       "      <th></th>\n",
       "      <th></th>\n",
       "      <th></th>\n",
       "    </tr>\n",
       "  </thead>\n",
       "  <tbody>\n",
       "    <tr>\n",
       "      <th>b'0158182'</th>\n",
       "      <td>b'FP'</td>\n",
       "      <td>2000-02-01</td>\n",
       "      <td>NaT</td>\n",
       "      <td>2000</td>\n",
       "      <td>0</td>\n",
       "      <td>NaN</td>\n",
       "      <td>2007-01-17</td>\n",
       "      <td>NaN</td>\n",
       "      <td>b'ID'</td>\n",
       "      <td>2003-04-18</td>\n",
       "      <td>b'O'</td>\n",
       "      <td>b'004184524'</td>\n",
       "      <td>b'EM'</td>\n",
       "      <td>b'REP'</td>\n",
       "      <td>16</td>\n",
       "    </tr>\n",
       "    <tr>\n",
       "      <th>b'0217927'</th>\n",
       "      <td>b'FP'</td>\n",
       "      <td>2000-05-01</td>\n",
       "      <td>2006-01-12</td>\n",
       "      <td>2000</td>\n",
       "      <td>1</td>\n",
       "      <td>NaN</td>\n",
       "      <td>2006-12-08</td>\n",
       "      <td>NaN</td>\n",
       "      <td>b'AK'</td>\n",
       "      <td>2006-03-15</td>\n",
       "      <td>b'O'</td>\n",
       "      <td>b'004978676'</td>\n",
       "      <td>b'LE'</td>\n",
       "      <td>b'DIS'</td>\n",
       "      <td>56</td>\n",
       "    </tr>\n",
       "    <tr>\n",
       "      <th>b'0225687'</th>\n",
       "      <td>b'FP'</td>\n",
       "      <td>2001-12-01</td>\n",
       "      <td>NaT</td>\n",
       "      <td>2001</td>\n",
       "      <td>0</td>\n",
       "      <td>NaN</td>\n",
       "      <td>2007-01-17</td>\n",
       "      <td>NaN</td>\n",
       "      <td>b'ID'</td>\n",
       "      <td>2003-09-11</td>\n",
       "      <td>b'O'</td>\n",
       "      <td>b'004288013'</td>\n",
       "      <td>b'EM'</td>\n",
       "      <td>b'REP'</td>\n",
       "      <td>16</td>\n",
       "    </tr>\n",
       "    <tr>\n",
       "      <th>b'0235523'</th>\n",
       "      <td>b'FP'</td>\n",
       "      <td>2004-08-01</td>\n",
       "      <td>NaT</td>\n",
       "      <td>2004</td>\n",
       "      <td>0</td>\n",
       "      <td>NaN</td>\n",
       "      <td>2007-01-17</td>\n",
       "      <td>NaN</td>\n",
       "      <td>b'ID'</td>\n",
       "      <td>2007-01-11</td>\n",
       "      <td>b'I'</td>\n",
       "      <td>b'005165811'</td>\n",
       "      <td>b'MR'</td>\n",
       "      <td>b'IRE'</td>\n",
       "      <td>16</td>\n",
       "    </tr>\n",
       "    <tr>\n",
       "      <th>b'0236966'</th>\n",
       "      <td>b'FP'</td>\n",
       "      <td>2005-01-01</td>\n",
       "      <td>NaT</td>\n",
       "      <td>2005</td>\n",
       "      <td>0</td>\n",
       "      <td>NaN</td>\n",
       "      <td>2007-01-17</td>\n",
       "      <td>NaN</td>\n",
       "      <td>b'ID'</td>\n",
       "      <td>2005-01-05</td>\n",
       "      <td>b'O'</td>\n",
       "      <td>b'004638245'</td>\n",
       "      <td>b'LE'</td>\n",
       "      <td>b'INF'</td>\n",
       "      <td>16</td>\n",
       "    </tr>\n",
       "  </tbody>\n",
       "</table>\n",
       "</div>"
      ],
      "text/plain": [
       "           EXRELACTCD EXTRELSTDT EXRELDATEN  startyr  Churn  Total_Pamt  \\\n",
       "EXTRELNO                                                                  \n",
       "b'0158182'      b'FP' 2000-02-01        NaT     2000      0         NaN   \n",
       "b'0217927'      b'FP' 2000-05-01 2006-01-12     2000      1         NaN   \n",
       "b'0225687'      b'FP' 2001-12-01        NaT     2001      0         NaN   \n",
       "b'0235523'      b'FP' 2004-08-01        NaT     2004      0         NaN   \n",
       "b'0236966'      b'FP' 2005-01-01        NaT     2005      0         NaN   \n",
       "\n",
       "           recent_date  Frequency CLASCODE   CONTDATE CONTDIREC        CONTID  \\\n",
       "EXTRELNO                                                                        \n",
       "b'0158182'  2007-01-17        NaN    b'ID' 2003-04-18      b'O'  b'004184524'   \n",
       "b'0217927'  2006-12-08        NaN    b'AK' 2006-03-15      b'O'  b'004978676'   \n",
       "b'0225687'  2007-01-17        NaN    b'ID' 2003-09-11      b'O'  b'004288013'   \n",
       "b'0235523'  2007-01-17        NaN    b'ID' 2007-01-11      b'I'  b'005165811'   \n",
       "b'0236966'  2007-01-17        NaN    b'ID' 2005-01-05      b'O'  b'004638245'   \n",
       "\n",
       "           MEDIUMCODE MNTOPCODE  Recency  \n",
       "EXTRELNO                                  \n",
       "b'0158182'      b'EM'    b'REP'       16  \n",
       "b'0217927'      b'LE'    b'DIS'       56  \n",
       "b'0225687'      b'EM'    b'REP'       16  \n",
       "b'0235523'      b'MR'    b'IRE'       16  \n",
       "b'0236966'      b'LE'    b'INF'       16  "
      ]
     },
     "execution_count": 41,
     "metadata": {},
     "output_type": "execute_result"
    }
   ],
   "source": [
    "merged_table[merged_table['Total_Pamt'].isnull()].head()"
   ]
  },
  {
   "cell_type": "code",
   "execution_count": 42,
   "metadata": {},
   "outputs": [],
   "source": [
    "# dropping end date and recent date\n",
    "merged_table.drop(['EXRELDATEN','recent_date'],axis=1,inplace=True)"
   ]
  },
  {
   "cell_type": "code",
   "execution_count": 43,
   "metadata": {},
   "outputs": [
    {
     "data": {
      "text/html": [
       "<div>\n",
       "<style scoped>\n",
       "    .dataframe tbody tr th:only-of-type {\n",
       "        vertical-align: middle;\n",
       "    }\n",
       "\n",
       "    .dataframe tbody tr th {\n",
       "        vertical-align: top;\n",
       "    }\n",
       "\n",
       "    .dataframe thead th {\n",
       "        text-align: right;\n",
       "    }\n",
       "</style>\n",
       "<table border=\"1\" class=\"dataframe\">\n",
       "  <thead>\n",
       "    <tr style=\"text-align: right;\">\n",
       "      <th></th>\n",
       "      <th>EXRELACTCD</th>\n",
       "      <th>EXTRELSTDT</th>\n",
       "      <th>startyr</th>\n",
       "      <th>Churn</th>\n",
       "      <th>Total_Pamt</th>\n",
       "      <th>Frequency</th>\n",
       "      <th>CLASCODE</th>\n",
       "      <th>CONTDATE</th>\n",
       "      <th>CONTDIREC</th>\n",
       "      <th>CONTID</th>\n",
       "      <th>MEDIUMCODE</th>\n",
       "      <th>MNTOPCODE</th>\n",
       "      <th>Recency</th>\n",
       "    </tr>\n",
       "    <tr>\n",
       "      <th>EXTRELNO</th>\n",
       "      <th></th>\n",
       "      <th></th>\n",
       "      <th></th>\n",
       "      <th></th>\n",
       "      <th></th>\n",
       "      <th></th>\n",
       "      <th></th>\n",
       "      <th></th>\n",
       "      <th></th>\n",
       "      <th></th>\n",
       "      <th></th>\n",
       "      <th></th>\n",
       "      <th></th>\n",
       "    </tr>\n",
       "  </thead>\n",
       "  <tbody>\n",
       "    <tr>\n",
       "      <th>b'0026419'</th>\n",
       "      <td>b'FP'</td>\n",
       "      <td>1992-03-01</td>\n",
       "      <td>1992</td>\n",
       "      <td>0</td>\n",
       "      <td>3155.05</td>\n",
       "      <td>69.0</td>\n",
       "      <td>b'CT'</td>\n",
       "      <td>2006-07-19</td>\n",
       "      <td>b'O'</td>\n",
       "      <td>b'005057036'</td>\n",
       "      <td>b'CI'</td>\n",
       "      <td>b'CTS'</td>\n",
       "      <td>31</td>\n",
       "    </tr>\n",
       "    <tr>\n",
       "      <th>b'0026430'</th>\n",
       "      <td>b'FP'</td>\n",
       "      <td>1992-03-01</td>\n",
       "      <td>1992</td>\n",
       "      <td>1</td>\n",
       "      <td>2786.13</td>\n",
       "      <td>146.0</td>\n",
       "      <td>b'AK'</td>\n",
       "      <td>2006-03-16</td>\n",
       "      <td>b'O'</td>\n",
       "      <td>b'004978998'</td>\n",
       "      <td>b'LE'</td>\n",
       "      <td>b'DIS'</td>\n",
       "      <td>472</td>\n",
       "    </tr>\n",
       "    <tr>\n",
       "      <th>b'0026431'</th>\n",
       "      <td>b'FP'</td>\n",
       "      <td>1992-03-01</td>\n",
       "      <td>1992</td>\n",
       "      <td>0</td>\n",
       "      <td>3050.61</td>\n",
       "      <td>21.0</td>\n",
       "      <td>b'CT'</td>\n",
       "      <td>2006-10-05</td>\n",
       "      <td>b'O'</td>\n",
       "      <td>b'005103246'</td>\n",
       "      <td>b'CI'</td>\n",
       "      <td>b'CTS'</td>\n",
       "      <td>280</td>\n",
       "    </tr>\n",
       "    <tr>\n",
       "      <th>b'0026443'</th>\n",
       "      <td>b'FP'</td>\n",
       "      <td>1992-03-01</td>\n",
       "      <td>1992</td>\n",
       "      <td>0</td>\n",
       "      <td>3109.62</td>\n",
       "      <td>156.0</td>\n",
       "      <td>b'CT'</td>\n",
       "      <td>2006-12-14</td>\n",
       "      <td>b'O'</td>\n",
       "      <td>b'005150482'</td>\n",
       "      <td>b'CI'</td>\n",
       "      <td>b'CTS'</td>\n",
       "      <td>16</td>\n",
       "    </tr>\n",
       "    <tr>\n",
       "      <th>b'0026444'</th>\n",
       "      <td>b'FP'</td>\n",
       "      <td>1992-03-01</td>\n",
       "      <td>1992</td>\n",
       "      <td>0</td>\n",
       "      <td>3092.47</td>\n",
       "      <td>157.0</td>\n",
       "      <td>b'CT'</td>\n",
       "      <td>2006-06-21</td>\n",
       "      <td>b'O'</td>\n",
       "      <td>b'005034575'</td>\n",
       "      <td>b'CI'</td>\n",
       "      <td>b'CTS'</td>\n",
       "      <td>16</td>\n",
       "    </tr>\n",
       "  </tbody>\n",
       "</table>\n",
       "</div>"
      ],
      "text/plain": [
       "           EXRELACTCD EXTRELSTDT  startyr  Churn  Total_Pamt  Frequency  \\\n",
       "EXTRELNO                                                                  \n",
       "b'0026419'      b'FP' 1992-03-01     1992      0     3155.05       69.0   \n",
       "b'0026430'      b'FP' 1992-03-01     1992      1     2786.13      146.0   \n",
       "b'0026431'      b'FP' 1992-03-01     1992      0     3050.61       21.0   \n",
       "b'0026443'      b'FP' 1992-03-01     1992      0     3109.62      156.0   \n",
       "b'0026444'      b'FP' 1992-03-01     1992      0     3092.47      157.0   \n",
       "\n",
       "           CLASCODE   CONTDATE CONTDIREC        CONTID MEDIUMCODE MNTOPCODE  \\\n",
       "EXTRELNO                                                                      \n",
       "b'0026419'    b'CT' 2006-07-19      b'O'  b'005057036'      b'CI'    b'CTS'   \n",
       "b'0026430'    b'AK' 2006-03-16      b'O'  b'004978998'      b'LE'    b'DIS'   \n",
       "b'0026431'    b'CT' 2006-10-05      b'O'  b'005103246'      b'CI'    b'CTS'   \n",
       "b'0026443'    b'CT' 2006-12-14      b'O'  b'005150482'      b'CI'    b'CTS'   \n",
       "b'0026444'    b'CT' 2006-06-21      b'O'  b'005034575'      b'CI'    b'CTS'   \n",
       "\n",
       "            Recency  \n",
       "EXTRELNO             \n",
       "b'0026419'       31  \n",
       "b'0026430'      472  \n",
       "b'0026431'      280  \n",
       "b'0026443'       16  \n",
       "b'0026444'       16  "
      ]
     },
     "execution_count": 43,
     "metadata": {},
     "output_type": "execute_result"
    }
   ],
   "source": [
    "merged_table.head()"
   ]
  },
  {
   "cell_type": "markdown",
   "metadata": {},
   "source": [
    "### Total Pament\n",
    "\n",
    "Finding values where values in total payments are less than 0 and deleting those rows"
   ]
  },
  {
   "cell_type": "code",
   "execution_count": 44,
   "metadata": {},
   "outputs": [],
   "source": [
    "x=merged_table[merged_table['Total_Pamt']<0].index"
   ]
  },
  {
   "cell_type": "code",
   "execution_count": 45,
   "metadata": {},
   "outputs": [
    {
     "data": {
      "text/plain": [
       "Index([b'0237020', b'0237223', b'0237684', b'0239532', b'0239595', b'0240120'], dtype='object', name='EXTRELNO')"
      ]
     },
     "execution_count": 45,
     "metadata": {},
     "output_type": "execute_result"
    }
   ],
   "source": [
    "x"
   ]
  },
  {
   "cell_type": "code",
   "execution_count": 46,
   "metadata": {},
   "outputs": [],
   "source": [
    "merged_table.drop(x,axis=0,inplace=True)"
   ]
  },
  {
   "cell_type": "code",
   "execution_count": 47,
   "metadata": {},
   "outputs": [],
   "source": [
    "#found 5 rows and deleted them"
   ]
  },
  {
   "cell_type": "code",
   "execution_count": 48,
   "metadata": {},
   "outputs": [
    {
     "data": {
      "text/plain": [
       "1834.52"
      ]
     },
     "execution_count": 48,
     "metadata": {},
     "output_type": "execute_result"
    }
   ],
   "source": [
    "#Imputation for churners-Total_Pamt\n",
    "pc=round(merged_table[merged_table['Churn']==1] ['Total_Pamt'].median(),2)\n",
    "pc"
   ]
  },
  {
   "cell_type": "code",
   "execution_count": 49,
   "metadata": {},
   "outputs": [
    {
     "data": {
      "text/plain": [
       "2424.81"
      ]
     },
     "execution_count": 49,
     "metadata": {},
     "output_type": "execute_result"
    }
   ],
   "source": [
    "#Imputation for churners-Total_Pamt\n",
    "pnc=round(merged_table[merged_table['Churn']==0] ['Total_Pamt'].median(),2)\n",
    "pnc"
   ]
  },
  {
   "cell_type": "code",
   "execution_count": 50,
   "metadata": {},
   "outputs": [],
   "source": [
    "merged_table.loc[((merged_table['Churn']==1) & (merged_table['Total_Pamt'].isnull())),'Total_Pamt']=pc"
   ]
  },
  {
   "cell_type": "code",
   "execution_count": 51,
   "metadata": {},
   "outputs": [],
   "source": [
    "merged_table.loc[((merged_table['Churn']==0) & (merged_table['Total_Pamt'].isnull())),'Total_Pamt']=pnc"
   ]
  },
  {
   "cell_type": "code",
   "execution_count": 52,
   "metadata": {},
   "outputs": [],
   "source": [
    "# As there are many extreme values...we will take log of Total_Pamt variable"
   ]
  },
  {
   "cell_type": "markdown",
   "metadata": {},
   "source": [
    "### Frequency"
   ]
  },
  {
   "cell_type": "code",
   "execution_count": 53,
   "metadata": {
    "scrolled": true
   },
   "outputs": [
    {
     "data": {
      "text/plain": [
       "63.0"
      ]
     },
     "execution_count": 53,
     "metadata": {},
     "output_type": "execute_result"
    }
   ],
   "source": [
    "fc=round(merged_table[merged_table['Churn']==1]['Frequency'].median(),2)\n",
    "fc"
   ]
  },
  {
   "cell_type": "code",
   "execution_count": 54,
   "metadata": {},
   "outputs": [
    {
     "data": {
      "text/plain": [
       "77.0"
      ]
     },
     "execution_count": 54,
     "metadata": {},
     "output_type": "execute_result"
    }
   ],
   "source": [
    "fnc=round(merged_table[merged_table['Churn']==0]['Frequency'].median(),2)\n",
    "fnc"
   ]
  },
  {
   "cell_type": "code",
   "execution_count": 55,
   "metadata": {},
   "outputs": [],
   "source": [
    "merged_table.loc[((merged_table['Churn']==1) & (merged_table['Frequency'].isnull())),'Frequency']=fc"
   ]
  },
  {
   "cell_type": "code",
   "execution_count": 56,
   "metadata": {},
   "outputs": [],
   "source": [
    "merged_table.loc[((merged_table['Churn']==0) & (merged_table['Frequency'].isnull())),'Frequency']=fnc"
   ]
  },
  {
   "cell_type": "markdown",
   "metadata": {},
   "source": [
    "# ((4)) Log Transformation\n",
    "\n",
    "### Creating box plots for 'Recency','Total Payment' , 'Frequency' and performing Log Transformation if extreme values are found"
   ]
  },
  {
   "cell_type": "code",
   "execution_count": 57,
   "metadata": {},
   "outputs": [
    {
     "data": {
      "text/plain": [
       "<matplotlib.axes._subplots.AxesSubplot at 0xc400a58>"
      ]
     },
     "execution_count": 57,
     "metadata": {},
     "output_type": "execute_result"
    },
    {
     "data": {
      "image/png": "[encoded data removed]",
      "text/plain": [
       "<matplotlib.figure.Figure at 0xc3f96d8>"
      ]
     },
     "metadata": {},
     "output_type": "display_data"
    }
   ],
   "source": [
    "sns.boxplot(data=merged_table.Recency)"
   ]
  },
  {
   "cell_type": "code",
   "execution_count": 58,
   "metadata": {},
   "outputs": [
    {
     "data": {
      "text/plain": [
       "<matplotlib.axes._subplots.AxesSubplot at 0xbf4f780>"
      ]
     },
     "execution_count": 58,
     "metadata": {},
     "output_type": "execute_result"
    },
    {
     "data": {
      "image/png": "[encoded data removed]",
      "text/plain": [
       "<matplotlib.figure.Figure at 0xbf2c2b0>"
      ]
     },
     "metadata": {},
     "output_type": "display_data"
    }
   ],
   "source": [
    "sns.boxplot(data=np.log(merged_table.Total_Pamt))"
   ]
  },
  {
   "cell_type": "code",
   "execution_count": 59,
   "metadata": {},
   "outputs": [
    {
     "data": {
      "text/plain": [
       "<matplotlib.axes._subplots.AxesSubplot at 0xbf79cc0>"
      ]
     },
     "execution_count": 59,
     "metadata": {},
     "output_type": "execute_result"
    },
    {
     "data": {
      "image/png": "[encoded data removed]",
      "text/plain": [
       "<matplotlib.figure.Figure at 0xbf729e8>"
      ]
     },
     "metadata": {},
     "output_type": "display_data"
    }
   ],
   "source": [
    "sns.boxplot(data=np.log(merged_table.Frequency))"
   ]
  },
  {
   "cell_type": "markdown",
   "metadata": {},
   "source": [
    "#### Performing Log Transformations to mitigate effect of extreme values"
   ]
  },
  {
   "cell_type": "code",
   "execution_count": 60,
   "metadata": {},
   "outputs": [],
   "source": [
    "merged_table['Total_Pamt']=np.log(merged_table['Total_Pamt'])\n",
    "\n",
    "merged_table.Recency=np.log(merged_table['Recency'])\n",
    "\n",
    "merged_table.Frequency=np.log(merged_table.Frequency)"
   ]
  },
  {
   "cell_type": "markdown",
   "metadata": {},
   "source": [
    "## Dropping columns which are not relevant for model"
   ]
  },
  {
   "cell_type": "code",
   "execution_count": 61,
   "metadata": {},
   "outputs": [],
   "source": [
    "the_table=merged_table.drop(['EXRELACTCD','EXTRELSTDT','CONTDATE','CONTID'],axis=1)"
   ]
  },
  {
   "cell_type": "markdown",
   "metadata": {},
   "source": [
    "# ((5)) Dummy variable creation for categorical data"
   ]
  },
  {
   "cell_type": "code",
   "execution_count": 62,
   "metadata": {},
   "outputs": [],
   "source": [
    "table_dummy=pd.get_dummies(the_table)"
   ]
  },
  {
   "cell_type": "markdown",
   "metadata": {},
   "source": [
    "#  (6)) Spliting data into Train and Test"
   ]
  },
  {
   "cell_type": "code",
   "execution_count": 63,
   "metadata": {},
   "outputs": [],
   "source": [
    "TRAIN=table_dummy[table_dummy['startyr']<2003]\n",
    "VALIDATE=table_dummy[table_dummy['startyr']==2004]\n",
    "TEST=table_dummy[table_dummy['startyr']>2004]"
   ]
  },
  {
   "cell_type": "code",
   "execution_count": 64,
   "metadata": {},
   "outputs": [],
   "source": [
    "TRAIN_target=TRAIN['Churn']\n",
    "VALIDATE_target=VALIDATE['Churn']\n",
    "TEST_target=TEST['Churn']"
   ]
  },
  {
   "cell_type": "code",
   "execution_count": 65,
   "metadata": {},
   "outputs": [
    {
     "name": "stderr",
     "output_type": "stream",
     "text": [
      "C:\\ProgramData\\Anaconda3\\lib\\site-packages\\ipykernel_launcher.py:1: SettingWithCopyWarning: \n",
      "A value is trying to be set on a copy of a slice from a DataFrame\n",
      "\n",
      "See the caveats in the documentation: http://pandas.pydata.org/pandas-docs/stable/indexing.html#indexing-view-versus-copy\n",
      "  \"\"\"Entry point for launching an IPython kernel.\n",
      "C:\\ProgramData\\Anaconda3\\lib\\site-packages\\ipykernel_launcher.py:2: SettingWithCopyWarning: \n",
      "A value is trying to be set on a copy of a slice from a DataFrame\n",
      "\n",
      "See the caveats in the documentation: http://pandas.pydata.org/pandas-docs/stable/indexing.html#indexing-view-versus-copy\n",
      "  \n",
      "C:\\ProgramData\\Anaconda3\\lib\\site-packages\\ipykernel_launcher.py:3: SettingWithCopyWarning: \n",
      "A value is trying to be set on a copy of a slice from a DataFrame\n",
      "\n",
      "See the caveats in the documentation: http://pandas.pydata.org/pandas-docs/stable/indexing.html#indexing-view-versus-copy\n",
      "  This is separate from the ipykernel package so we can avoid doing imports until\n"
     ]
    }
   ],
   "source": [
    "TRAIN.drop(['Churn','startyr'],axis=1,inplace=True)\n",
    "VALIDATE.drop(['Churn','startyr'],axis=1,inplace=True)\n",
    "TEST.drop(['Churn','startyr'],axis=1,inplace=True)"
   ]
  },
  {
   "cell_type": "markdown",
   "metadata": {},
   "source": [
    "# ((7)) Scaling Data"
   ]
  },
  {
   "cell_type": "code",
   "execution_count": 66,
   "metadata": {},
   "outputs": [],
   "source": [
    "from sklearn.preprocessing import StandardScaler"
   ]
  },
  {
   "cell_type": "code",
   "execution_count": 67,
   "metadata": {},
   "outputs": [],
   "source": [
    "SC=StandardScaler()"
   ]
  },
  {
   "cell_type": "code",
   "execution_count": 68,
   "metadata": {},
   "outputs": [],
   "source": [
    "TRAIN_Scaled=SC.fit_transform(TRAIN)"
   ]
  },
  {
   "cell_type": "code",
   "execution_count": 69,
   "metadata": {},
   "outputs": [],
   "source": [
    "TRAIN_Scaled_df=pd.DataFrame(TRAIN_Scaled,columns=TRAIN.columns.tolist())"
   ]
  },
  {
   "cell_type": "markdown",
   "metadata": {},
   "source": [
    "# ((8)) Dimension Reduction - \n",
    "### > Using RFE to find best fetures"
   ]
  },
  {
   "cell_type": "markdown",
   "metadata": {},
   "source": [
    "#### Checking Co-Reation"
   ]
  },
  {
   "cell_type": "code",
   "execution_count": 70,
   "metadata": {},
   "outputs": [
    {
     "data": {
      "text/plain": [
       "<matplotlib.axes._subplots.AxesSubplot at 0xc381438>"
      ]
     },
     "execution_count": 70,
     "metadata": {},
     "output_type": "execute_result"
    },
    {
     "data": {
      "image/png": "[encoded data removed]",
      "text/plain": [
       "<matplotlib.figure.Figure at 0xc1a1be0>"
      ]
     },
     "metadata": {},
     "output_type": "display_data"
    }
   ],
   "source": [
    "plt.figure(figsize=(15,10))\n",
    "sns.heatmap(TRAIN_Scaled_df.corr())"
   ]
  },
  {
   "cell_type": "markdown",
   "metadata": {},
   "source": [
    "###### As Corelation is visible, there is a requirement of variable reduction"
   ]
  },
  {
   "cell_type": "code",
   "execution_count": 71,
   "metadata": {},
   "outputs": [],
   "source": [
    "from sklearn.feature_selection import RFE\n",
    "from sklearn import linear_model"
   ]
  },
  {
   "cell_type": "code",
   "execution_count": 72,
   "metadata": {},
   "outputs": [],
   "source": [
    "linreg_model = linear_model.LinearRegression()"
   ]
  },
  {
   "cell_type": "code",
   "execution_count": 73,
   "metadata": {},
   "outputs": [],
   "source": [
    "rfe = RFE(linreg_model, 25)"
   ]
  },
  {
   "cell_type": "code",
   "execution_count": 75,
   "metadata": {},
   "outputs": [
    {
     "data": {
      "text/plain": [
       "RFE(estimator=LinearRegression(copy_X=True, fit_intercept=True, n_jobs=1, normalize=False),\n",
       "  n_features_to_select=25, step=1, verbose=0)"
      ]
     },
     "execution_count": 75,
     "metadata": {},
     "output_type": "execute_result"
    }
   ],
   "source": [
    "rfe2 = rfe.fit(TRAIN_Scaled_df,TRAIN_target)\n",
    "rfe2"
   ]
  },
  {
   "cell_type": "code",
   "execution_count": 76,
   "metadata": {},
   "outputs": [
    {
     "data": {
      "text/plain": [
       "Index(['CLASCODE_b'AK'', 'CLASCODE_b'AN'', 'CLASCODE_b'CT'', 'CLASCODE_b'ID'',\n",
       "       'CLASCODE_b'RI'', 'CONTDIREC_b'I'', 'CONTDIREC_b'O'',\n",
       "       'MEDIUMCODE_b'TM'', 'MNTOPCODE_b'ALL'', 'MNTOPCODE_b'ARR'',\n",
       "       'MNTOPCODE_b'CAN'', 'MNTOPCODE_b'COR'', 'MNTOPCODE_b'CTS'',\n",
       "       'MNTOPCODE_b'DIS'', 'MNTOPCODE_b'ENR'', 'MNTOPCODE_b'FIC'',\n",
       "       'MNTOPCODE_b'FIN'', 'MNTOPCODE_b'IFF'', 'MNTOPCODE_b'INF'',\n",
       "       'MNTOPCODE_b'IRE'', 'MNTOPCODE_b'PRO'', 'MNTOPCODE_b'REP'',\n",
       "       'MNTOPCODE_b'TAX'', 'MNTOPCODE_b'VIS'', 'MNTOPCODE_b'VOL''],\n",
       "      dtype='object')"
      ]
     },
     "execution_count": 76,
     "metadata": {},
     "output_type": "execute_result"
    }
   ],
   "source": [
    "index = TRAIN_Scaled_df.columns[rfe2.support_]\n",
    "index"
   ]
  },
  {
   "cell_type": "markdown",
   "metadata": {},
   "source": [
    "#### selecting variables with top 25 highest score features"
   ]
  },
  {
   "cell_type": "code",
   "execution_count": 77,
   "metadata": {},
   "outputs": [],
   "source": [
    "TRAIN_Scaled_df_25=TRAIN_Scaled_df[index].values"
   ]
  },
  {
   "cell_type": "markdown",
   "metadata": {},
   "source": [
    "# ((9)) Addressing Class Imbalance Problem"
   ]
  },
  {
   "cell_type": "markdown",
   "metadata": {},
   "source": [
    "### Resampling data to counter this imbalance by using SMOTE technique"
   ]
  },
  {
   "cell_type": "code",
   "execution_count": 78,
   "metadata": {},
   "outputs": [],
   "source": [
    "from imblearn.over_sampling import SMOTE\n",
    "from collections import Counter"
   ]
  },
  {
   "cell_type": "code",
   "execution_count": 79,
   "metadata": {},
   "outputs": [],
   "source": [
    "smote_x=SMOTE(random_state=3)\n",
    "X_training_sclaed_resample,Y_training_scaled_resample=smote_x.fit_sample(TRAIN_Scaled_df_25,TRAIN_target.values)"
   ]
  },
  {
   "cell_type": "code",
   "execution_count": 81,
   "metadata": {},
   "outputs": [
    {
     "name": "stdout",
     "output_type": "stream",
     "text": [
      "Before SMOTE Counter({0: 5455, 1: 373})\n",
      "After SMOTE Counter({0: 5455, 1: 5455})\n"
     ]
    }
   ],
   "source": [
    "# Checking whether smote has been correctly applied or not\n",
    "\n",
    "print (\"Before SMOTE {}\".format(Counter(TRAIN_target.values)))\n",
    "print (\"After SMOTE {}\".format(Counter(Y_training_scaled_resample)))"
   ]
  },
  {
   "cell_type": "markdown",
   "metadata": {},
   "source": [
    "# ((10)) Building Model"
   ]
  },
  {
   "cell_type": "code",
   "execution_count": 82,
   "metadata": {},
   "outputs": [
    {
     "name": "stderr",
     "output_type": "stream",
     "text": [
      "C:\\ProgramData\\Anaconda3\\lib\\site-packages\\sklearn\\cross_validation.py:41: DeprecationWarning: This module was deprecated in version 0.18 in favor of the model_selection module into which all the refactored classes and functions are moved. Also note that the interface of the new CV iterators are different from that of this module. This module will be removed in 0.20.\n",
      "  \"This module will be removed in 0.20.\", DeprecationWarning)\n"
     ]
    }
   ],
   "source": [
    "from sklearn.linear_model import LogisticRegression\n",
    "from sklearn.cross_validation import cross_val_score\n",
    "from sklearn.metrics import confusion_matrix , classification_report\n",
    "from sklearn.model_selection import GridSearchCV"
   ]
  },
  {
   "cell_type": "markdown",
   "metadata": {},
   "source": [
    "## Method 1- Logistic Regression"
   ]
  },
  {
   "cell_type": "markdown",
   "metadata": {},
   "source": [
    "### Step 0- Finding C Value using grid Search\n",
    "\n",
    "## C value is the inverse of regularization"
   ]
  },
  {
   "cell_type": "code",
   "execution_count": 83,
   "metadata": {},
   "outputs": [],
   "source": [
    "C_Value=LogisticRegression(random_state=5)\n",
    "grid={'C': [.001,.01,.1,1]}"
   ]
  },
  {
   "cell_type": "code",
   "execution_count": 84,
   "metadata": {},
   "outputs": [],
   "source": [
    "searchgrid=GridSearchCV(estimator=C_Value,param_grid=grid,cv=5,scoring='recall')"
   ]
  },
  {
   "cell_type": "code",
   "execution_count": 85,
   "metadata": {},
   "outputs": [
    {
     "data": {
      "text/plain": [
       "GridSearchCV(cv=5, error_score='raise',\n",
       "       estimator=LogisticRegression(C=1.0, class_weight=None, dual=False, fit_intercept=True,\n",
       "          intercept_scaling=1, max_iter=100, multi_class='ovr', n_jobs=1,\n",
       "          penalty='l2', random_state=5, solver='liblinear', tol=0.0001,\n",
       "          verbose=0, warm_start=False),\n",
       "       fit_params=None, iid=True, n_jobs=1,\n",
       "       param_grid={'C': [0.001, 0.01, 0.1, 1]}, pre_dispatch='2*n_jobs',\n",
       "       refit=True, return_train_score='warn', scoring='recall', verbose=0)"
      ]
     },
     "execution_count": 85,
     "metadata": {},
     "output_type": "execute_result"
    }
   ],
   "source": [
    "searchgrid.fit(X_training_sclaed_resample,Y_training_scaled_resample)"
   ]
  },
  {
   "cell_type": "code",
   "execution_count": 86,
   "metadata": {},
   "outputs": [
    {
     "name": "stderr",
     "output_type": "stream",
     "text": [
      "C:\\ProgramData\\Anaconda3\\lib\\site-packages\\sklearn\\model_selection\\_search.py:761: DeprecationWarning: The grid_scores_ attribute was deprecated in version 0.18 in favor of the more elaborate cv_results_ attribute. The grid_scores_ attribute will not be available from 0.20\n",
      "  DeprecationWarning)\n"
     ]
    },
    {
     "data": {
      "text/plain": [
       "[mean: 0.94005, std: 0.00455, params: {'C': 0.001},\n",
       " mean: 0.93694, std: 0.00472, params: {'C': 0.01},\n",
       " mean: 0.93419, std: 0.00835, params: {'C': 0.1},\n",
       " mean: 0.93437, std: 0.00841, params: {'C': 1}]"
      ]
     },
     "execution_count": 86,
     "metadata": {},
     "output_type": "execute_result"
    }
   ],
   "source": [
    "searchgrid.grid_scores_"
   ]
  },
  {
   "cell_type": "code",
   "execution_count": 87,
   "metadata": {},
   "outputs": [
    {
     "data": {
      "text/plain": [
       "LogisticRegression(C=0.001, class_weight=None, dual=False, fit_intercept=True,\n",
       "          intercept_scaling=1, max_iter=100, multi_class='ovr', n_jobs=1,\n",
       "          penalty='l2', random_state=5, solver='liblinear', tol=0.0001,\n",
       "          verbose=0, warm_start=False)"
      ]
     },
     "execution_count": 87,
     "metadata": {},
     "output_type": "execute_result"
    }
   ],
   "source": [
    "searchgrid.best_estimator_"
   ]
  },
  {
   "cell_type": "markdown",
   "metadata": {},
   "source": [
    "##### Best value of C has come up to be 0.001"
   ]
  },
  {
   "cell_type": "markdown",
   "metadata": {
    "collapsed": true
   },
   "source": [
    "## Step 1- Training\n",
    "### Step 1.1- Evaluating Model's Performance"
   ]
  },
  {
   "cell_type": "code",
   "execution_count": 88,
   "metadata": {},
   "outputs": [
    {
     "data": {
      "text/plain": [
       "array([[5198,  257],\n",
       "       [ 334, 5121]], dtype=int64)"
      ]
     },
     "execution_count": 88,
     "metadata": {},
     "output_type": "execute_result"
    }
   ],
   "source": [
    "confusion_matrix(y_true=Y_training_scaled_resample,y_pred=searchgrid.best_estimator_.predict(X_training_sclaed_resample))"
   ]
  },
  {
   "cell_type": "markdown",
   "metadata": {},
   "source": [
    "## Step 2- Validating"
   ]
  },
  {
   "cell_type": "markdown",
   "metadata": {},
   "source": [
    "### Step 2.1 Resampling data to tackle class imabalance"
   ]
  },
  {
   "cell_type": "code",
   "execution_count": 89,
   "metadata": {},
   "outputs": [],
   "source": [
    "X_validation_resample,Y_validation_resample=smote_x.fit_sample(VALIDATE[index],VALIDATE_target.values)"
   ]
  },
  {
   "cell_type": "code",
   "execution_count": 91,
   "metadata": {},
   "outputs": [
    {
     "name": "stdout",
     "output_type": "stream",
     "text": [
      "Before SMOTE Counter({0: 481, 1: 39})\n",
      "After SMOTE Counter({0: 481, 1: 481})\n"
     ]
    }
   ],
   "source": [
    "print (\"Before SMOTE {}\".format(Counter(VALIDATE_target.values)))\n",
    "print (\"After SMOTE {}\".format(Counter(Y_validation_resample)))"
   ]
  },
  {
   "cell_type": "markdown",
   "metadata": {},
   "source": [
    "### Step 2.2- Sampeling"
   ]
  },
  {
   "cell_type": "code",
   "execution_count": 92,
   "metadata": {},
   "outputs": [],
   "source": [
    "X_validation_scaled=StandardScaler().fit_transform(X_validation_resample)"
   ]
  },
  {
   "cell_type": "markdown",
   "metadata": {},
   "source": [
    "### Step 2.3- Evaluating Model's Performance"
   ]
  },
  {
   "cell_type": "code",
   "execution_count": 93,
   "metadata": {},
   "outputs": [
    {
     "data": {
      "text/plain": [
       "array([[479,   2],\n",
       "       [406,  75]], dtype=int64)"
      ]
     },
     "execution_count": 93,
     "metadata": {},
     "output_type": "execute_result"
    }
   ],
   "source": [
    "confusion_matrix(y_pred=searchgrid.best_estimator_.predict(X_validation_scaled),y_true=Y_validation_resample)"
   ]
  },
  {
   "cell_type": "markdown",
   "metadata": {},
   "source": [
    "## Step 3- Testing"
   ]
  },
  {
   "cell_type": "markdown",
   "metadata": {},
   "source": [
    "### Step 3.1 Resampling data to tackle class imabalance"
   ]
  },
  {
   "cell_type": "code",
   "execution_count": 94,
   "metadata": {},
   "outputs": [],
   "source": [
    "X_test_resample,Y_test_resample=smote_x.fit_sample(TEST[index],TEST_target.values)"
   ]
  },
  {
   "cell_type": "markdown",
   "metadata": {},
   "source": [
    "### Step 3.2- Scaling"
   ]
  },
  {
   "cell_type": "code",
   "execution_count": 95,
   "metadata": {},
   "outputs": [],
   "source": [
    "X_test_scaled=StandardScaler().fit_transform(X_test_resample)"
   ]
  },
  {
   "cell_type": "markdown",
   "metadata": {},
   "source": [
    "### Step 3.3- Evaluating Model's Performance"
   ]
  },
  {
   "cell_type": "code",
   "execution_count": 96,
   "metadata": {},
   "outputs": [],
   "source": [
    "from sklearn.cross_validation import cross_val_predict"
   ]
  },
  {
   "cell_type": "code",
   "execution_count": 97,
   "metadata": {},
   "outputs": [],
   "source": [
    "y=cross_val_predict(cv=5,estimator=searchgrid.best_estimator_,X=X_test_scaled,y=Y_test_resample)"
   ]
  },
  {
   "cell_type": "code",
   "execution_count": 98,
   "metadata": {},
   "outputs": [
    {
     "data": {
      "text/plain": [
       "array([[463,   6],\n",
       "       [279, 190]], dtype=int64)"
      ]
     },
     "execution_count": 98,
     "metadata": {},
     "output_type": "execute_result"
    }
   ],
   "source": [
    "confusion_matrix(y_pred=y,y_true=Y_test_resample)"
   ]
  },
  {
   "cell_type": "markdown",
   "metadata": {},
   "source": [
    "## Method 2- Random Forrest"
   ]
  },
  {
   "cell_type": "code",
   "execution_count": 99,
   "metadata": {},
   "outputs": [],
   "source": [
    "from sklearn.ensemble import RandomForestClassifier"
   ]
  },
  {
   "cell_type": "code",
   "execution_count": 100,
   "metadata": {},
   "outputs": [],
   "source": [
    "random=RandomForestClassifier(n_estimators=50,max_depth=10,random_state=5)"
   ]
  },
  {
   "cell_type": "markdown",
   "metadata": {},
   "source": [
    "### On validation data"
   ]
  },
  {
   "cell_type": "code",
   "execution_count": 101,
   "metadata": {},
   "outputs": [
    {
     "data": {
      "text/plain": [
       "RandomForestClassifier(bootstrap=True, class_weight=None, criterion='gini',\n",
       "            max_depth=10, max_features='auto', max_leaf_nodes=None,\n",
       "            min_impurity_decrease=0.0, min_impurity_split=None,\n",
       "            min_samples_leaf=1, min_samples_split=2,\n",
       "            min_weight_fraction_leaf=0.0, n_estimators=50, n_jobs=1,\n",
       "            oob_score=False, random_state=5, verbose=0, warm_start=False)"
      ]
     },
     "execution_count": 101,
     "metadata": {},
     "output_type": "execute_result"
    }
   ],
   "source": [
    "random.fit(X_validation_scaled,Y_validation_resample)"
   ]
  },
  {
   "cell_type": "code",
   "execution_count": 102,
   "metadata": {},
   "outputs": [],
   "source": [
    "Y_predict_val=cross_val_predict(estimator=random,cv=5,X=X_validation_scaled,y=Y_validation_resample)"
   ]
  },
  {
   "cell_type": "code",
   "execution_count": 103,
   "metadata": {},
   "outputs": [
    {
     "data": {
      "text/plain": [
       "array([[476,   5],\n",
       "       [ 12, 469]], dtype=int64)"
      ]
     },
     "execution_count": 103,
     "metadata": {},
     "output_type": "execute_result"
    }
   ],
   "source": [
    "confusion_matrix(y_pred=Y_predict_val,y_true=Y_validation_resample)"
   ]
  },
  {
   "cell_type": "markdown",
   "metadata": {},
   "source": [
    "### On test data"
   ]
  },
  {
   "cell_type": "code",
   "execution_count": 104,
   "metadata": {},
   "outputs": [],
   "source": [
    "Y_predict_test=cross_val_predict(estimator=random,cv=5,X=X_test_scaled,y=Y_test_resample)"
   ]
  },
  {
   "cell_type": "code",
   "execution_count": 106,
   "metadata": {},
   "outputs": [
    {
     "name": "stdout",
     "output_type": "stream",
     "text": [
      "Confusion Matrix :- \n",
      " [[461   8]\n",
      " [ 17 452]]\n"
     ]
    }
   ],
   "source": [
    "print (\"Confusion Matrix :- \\n\",confusion_matrix(y_pred=Y_predict_test,y_true=Y_test_resample))"
   ]
  },
  {
   "cell_type": "markdown",
   "metadata": {},
   "source": [
    "# Logistic v/s Random Forest"
   ]
  },
  {
   "cell_type": "markdown",
   "metadata": {},
   "source": [
    "## 1- Matrix Comparison"
   ]
  },
  {
   "cell_type": "markdown",
   "metadata": {},
   "source": [
    "### Logistic"
   ]
  },
  {
   "cell_type": "code",
   "execution_count": 107,
   "metadata": {},
   "outputs": [
    {
     "data": {
      "text/plain": [
       "array([[463,   6],\n",
       "       [279, 190]], dtype=int64)"
      ]
     },
     "execution_count": 107,
     "metadata": {},
     "output_type": "execute_result"
    }
   ],
   "source": [
    "confusion_matrix(y_pred=y,y_true=Y_test_resample)"
   ]
  },
  {
   "cell_type": "markdown",
   "metadata": {},
   "source": [
    "### Random Forest"
   ]
  },
  {
   "cell_type": "code",
   "execution_count": 108,
   "metadata": {},
   "outputs": [
    {
     "data": {
      "text/plain": [
       "array([[461,   8],\n",
       "       [ 17, 452]], dtype=int64)"
      ]
     },
     "execution_count": 108,
     "metadata": {},
     "output_type": "execute_result"
    }
   ],
   "source": [
    "confusion_matrix(y_pred=Y_predict_test,y_true=Y_test_resample)"
   ]
  },
  {
   "cell_type": "code",
   "execution_count": 109,
   "metadata": {},
   "outputs": [],
   "source": [
    "from sklearn import metrics"
   ]
  },
  {
   "cell_type": "code",
   "execution_count": 111,
   "metadata": {},
   "outputs": [
    {
     "data": {
      "text/plain": [
       "0.9733475479744137"
      ]
     },
     "execution_count": 111,
     "metadata": {},
     "output_type": "execute_result"
    }
   ],
   "source": [
    "metrics.accuracy_score(y_pred=Y_predict_test,y_true=Y_test_resample)"
   ]
  },
  {
   "cell_type": "markdown",
   "metadata": {},
   "source": [
    "### Random Forest is a better model with 97% accuracy"
   ]
  },
  {
   "cell_type": "markdown",
   "metadata": {},
   "source": [
    "# 2- Important Variables Comparison"
   ]
  },
  {
   "cell_type": "markdown",
   "metadata": {},
   "source": [
    "### Logistic"
   ]
  },
  {
   "cell_type": "code",
   "execution_count": 112,
   "metadata": {},
   "outputs": [
    {
     "data": {
      "image/png": "[encoded data removed]",
      "text/plain": [
       "<matplotlib.figure.Figure at 0x21825438>"
      ]
     },
     "metadata": {},
     "output_type": "display_data"
    }
   ],
   "source": [
    "plt.figure(figsize=(20,10))\n",
    "ax=pd.Series(searchgrid.best_estimator_.coef_.ravel()).plot(kind='bar')\n",
    "ax.set_xticklabels(index);"
   ]
  },
  {
   "cell_type": "markdown",
   "metadata": {},
   "source": [
    "### Random Forest"
   ]
  },
  {
   "cell_type": "code",
   "execution_count": 113,
   "metadata": {
    "scrolled": true
   },
   "outputs": [
    {
     "data": {
      "image/png": "[encoded data removed]",
      "text/plain": [
       "<matplotlib.figure.Figure at 0x22cc97f0>"
      ]
     },
     "metadata": {},
     "output_type": "display_data"
    }
   ],
   "source": [
    "plt.figure(figsize=(20,10))\n",
    "ax=pd.Series(random.feature_importances_).plot(kind='bar')\n",
    "ax.set_xticklabels(index);"
   ]
  },
  {
   "cell_type": "code",
   "execution_count": null,
   "metadata": {},
   "outputs": [],
   "source": []
  }
 ],
 "metadata": {
  "kernelspec": {
   "display_name": "Python 3",
   "language": "python",
   "name": "python3"
  },
  "language_info": {
   "codemirror_mode": {
    "name": "ipython",
    "version": 3
   },
   "file_extension": ".py",
   "mimetype": "text/x-python",
   "name": "python",
   "nbconvert_exporter": "python",
   "pygments_lexer": "ipython3",
   "version": "3.6.4"
  }
 },
 "nbformat": 4,
 "nbformat_minor": 2
}
